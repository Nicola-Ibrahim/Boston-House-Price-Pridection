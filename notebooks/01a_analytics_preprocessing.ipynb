{
 "cells": [
  {
   "cell_type": "code",
   "execution_count": 47,
   "metadata": {},
   "outputs": [],
   "source": [
    "TRAIN_DATA_PATH = \"../data/raw/train.csv\"\n",
    "PROC_TRAIN_DATA_PATH = \"../data/interim/1__analytics_preprocessed_df.pkl\""
   ]
  },
  {
   "cell_type": "markdown",
   "metadata": {},
   "source": [
    "# Import packages"
   ]
  },
  {
   "cell_type": "code",
   "execution_count": 48,
   "metadata": {},
   "outputs": [],
   "source": [
    "import pandas as pd\n",
    "import numpy as np"
   ]
  },
  {
   "cell_type": "code",
   "execution_count": 49,
   "metadata": {},
   "outputs": [],
   "source": [
    "# Change some pandas display options\n",
    "pd.set_option('display.max_rows', 500)\n",
    "pd.set_option('display.max_columns', 500)\n",
    "pd.set_option('display.max_colwidth', 0)\n",
    "pd.set_option('display.width', 1000)\n",
    "pd.set_option(\"styler.format.precision\", 10)"
   ]
  },
  {
   "cell_type": "code",
   "execution_count": 50,
   "metadata": {},
   "outputs": [],
   "source": [
    "raw_df_train = pd.read_csv(TRAIN_DATA_PATH)"
   ]
  },
  {
   "cell_type": "markdown",
   "metadata": {},
   "source": [
    "# Functions"
   ]
  },
  {
   "cell_type": "code",
   "execution_count": 51,
   "metadata": {},
   "outputs": [],
   "source": [
    "def split_features_by_type(data:pd.DataFrame):\n",
    "    \"\"\"\n",
    "    Split features to categorical and numerical features\n",
    "\n",
    "    Params:\n",
    "    -------\n",
    "    * data: DataFrame\n",
    "\n",
    "    Return:\n",
    "    -------\n",
    "    categorical_feats: list of cat columns \n",
    "    numerical_feats: list of num columns\n",
    "    \"\"\"\n",
    "    categorical_feats = data.select_dtypes(include=['object']).columns\n",
    "    numerical_feats = data.select_dtypes(np.number).columns\n",
    "\n",
    "    return categorical_feats, numerical_feats"
   ]
  },
  {
   "cell_type": "markdown",
   "metadata": {},
   "source": [
    "# Changing data type\n",
    "- After investigating the data, Some feature have numeric values but they are **categorical features**\n",
    "- **OverallQual** & **OverallCond** will be edited to corresponding string values.\n",
    "- 'MSSubClass', \n",
    "    'BsmtFullBath', \n",
    "    'BsmtHalfBath', \n",
    "    'FullBath', \n",
    "    'HalfBath', \n",
    "    'BedroomAbvGr', \n",
    "    'KitchenAbvGr', \n",
    "    'TotRmsAbvGrd', \n",
    "    'Fireplaces',\n",
    "    'GarageCars',\n",
    "    '3SsnPorch',\n",
    "    'MiscVal',\n",
    "    'MoSold',\n",
    "    'YrSold',\n",
    "    'OverallQual', \n",
    "    'OverallCond'"
   ]
  },
  {
   "cell_type": "code",
   "execution_count": 52,
   "metadata": {},
   "outputs": [],
   "source": [
    "def num2str(data:pd.DataFrame) -> pd.DataFrame:\n",
    "        \"\"\"\n",
    "        Change numeric to string values in OverallQual and OverallCond features\n",
    "        \n",
    "        Params:\n",
    "        --------\n",
    "        * data: pd.DataFrame the data frame that should be processed\n",
    "\n",
    "        Return:\n",
    "        --------\n",
    "        proc_data: pd.DataFrame the processed data frame\n",
    "\n",
    "        \"\"\"\n",
    "        num2str_values = {\n",
    "                10:\t\"Very Excellent\",\n",
    "                9:\t\"Excellent\",\n",
    "                8:\t\"Very Good\",\n",
    "                7:\t\"Good\",\n",
    "                6:\t\"Above Average\",\n",
    "                5:\t\"Average\",\n",
    "                4:\t\"Below Average\",\n",
    "                3:\t\"Fair\",\n",
    "                2:\t\"Poor\",\n",
    "                1:\t\"Very Poor\"\n",
    "                }\n",
    "\n",
    "        data['OverallQual'] = data['OverallQual'].replace(num2str_values)\n",
    "        data['OverallCond'] = data['OverallCond'].replace(num2str_values)\n",
    "\n",
    "        return data\n",
    "\n",
    "def to_object(data:pd.DataFrame) -> pd.DataFrame:\n",
    "        \"\"\"\n",
    "        Change numeric to string values in OverallQual and OverallCond features\n",
    "        \n",
    "        Params:\n",
    "        --------\n",
    "        * data: pd.DataFrame the data frame that should be processed\n",
    "\n",
    "        Return:\n",
    "        --------\n",
    "        proc_data: pd.DataFrame the processed data frame\n",
    "\n",
    "        \"\"\"\n",
    "        # Change some features to categorical \n",
    "        numbered_cat_feats = [\n",
    "                'MSSubClass', \n",
    "                'BsmtFullBath', \n",
    "                'BsmtHalfBath', \n",
    "                'FullBath', \n",
    "                'HalfBath', \n",
    "                'BedroomAbvGr', \n",
    "                'KitchenAbvGr', \n",
    "                'TotRmsAbvGrd', \n",
    "                'Fireplaces',\n",
    "                'GarageCars',\n",
    "                '3SsnPorch',\n",
    "                'MiscVal',\n",
    "                'MoSold',\n",
    "                'YrSold',\n",
    "                'OverallQual', \n",
    "                'OverallCond'\n",
    "        ]\n",
    "\n",
    "        data[numbered_cat_feats] = data[numbered_cat_feats].astype('category')\n",
    "\n",
    "        return data\n",
    "\n",
    "def edit_df(data:pd.DataFrame) -> pd.DataFrame:\n",
    "        \"\"\"\n",
    "        Change numeric to string values in OverallQual and OverallCond features\n",
    "        \n",
    "        Params:\n",
    "        --------\n",
    "        * data: pd.DataFrame the data frame that should be processed\n",
    "\n",
    "        Return:\n",
    "        --------\n",
    "        proc_data: pd.DataFrame the processed data frame\n",
    "\n",
    "        \"\"\"\n",
    "        \n",
    "        proc_data = to_object(num2str(data))\n",
    "        # Change Fence name -> FenceQual\n",
    "        proc_data = proc_data.rename(columns={\"Fence\": \"FenceQual\"})\n",
    "        \n",
    "        return proc_data\n",
    "\n",
    "df_train = edit_df(raw_df_train)\n",
    "\n",
    "categorical_feats, numerical_feats = split_features_by_type(df_train)"
   ]
  },
  {
   "cell_type": "markdown",
   "metadata": {},
   "source": [
    "# Visually verify result"
   ]
  },
  {
   "cell_type": "code",
   "execution_count": 53,
   "metadata": {},
   "outputs": [
    {
     "name": "stdout",
     "output_type": "stream",
     "text": [
      "     OverallQual OverallCond\n",
      "1236  Good        Average   \n"
     ]
    }
   ],
   "source": [
    "arbitrary_sample_index = df_train.sample(1).index\n",
    "print(df_train[['OverallQual','OverallCond']].iloc[arbitrary_sample_index])"
   ]
  },
  {
   "cell_type": "code",
   "execution_count": 54,
   "metadata": {},
   "outputs": [],
   "source": [
    "df_train.to_pickle(PROC_TRAIN_DATA_PATH)"
   ]
  }
 ],
 "metadata": {
  "kernelspec": {
   "display_name": "Python 3.9.7 ('base')",
   "language": "python",
   "name": "python3"
  },
  "language_info": {
   "codemirror_mode": {
    "name": "ipython",
    "version": 3
   },
   "file_extension": ".py",
   "mimetype": "text/x-python",
   "name": "python",
   "nbconvert_exporter": "python",
   "pygments_lexer": "ipython3",
   "version": "3.9.12"
  },
  "orig_nbformat": 4,
  "vscode": {
   "interpreter": {
    "hash": "dafb1f7618ea635952683f9de1ec2ad0605097bc28573cb02814b9f97cdb4857"
   }
  }
 },
 "nbformat": 4,
 "nbformat_minor": 2
}
