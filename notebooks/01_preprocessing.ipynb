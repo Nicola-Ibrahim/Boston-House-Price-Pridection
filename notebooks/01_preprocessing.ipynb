{
 "cells": [],
 "metadata": {
  "kernelspec": {
   "display_name": "Python 3.9.7 ('base')",
   "language": "python",
   "name": "python3"
  },
  "language_info": {
   "codemirror_mode": {
    "name": "ipython",
    "version": 3
   },
   "file_extension": ".py",
   "mimetype": "text/x-python",
   "name": "python",
   "nbconvert_exporter": "python",
   "pygments_lexer": "ipython3",
   "version": "3.9.7"
  },
  "orig_nbformat": 4,
  "vscode": {
   "interpreter": {
    "hash": "dafb1f7618ea635952683f9de1ec2ad0605097bc28573cb02814b9f97cdb4857"
   }
  }
 },
 "nbformat": 4,
 "nbformat_minor": 2
}
